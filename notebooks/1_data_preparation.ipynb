{
 "cells": [
  {
   "cell_type": "code",
   "execution_count": 1,
   "metadata": {},
   "outputs": [],
   "source": [
    "import pandas as pd\n",
    "\n",
    "def process_data():\n",
    "    \"\"\"\n",
    "    Reads the ENB2012_data.xlsx file, performs data preprocessing, and saves the processed data to a CSV file.\n",
    "\n",
    "    Returns:\n",
    "    None\n",
    "    \"\"\"\n",
    "\n",
    "    data_path = '../data/raw/ENB2012_data.xlsx'\n",
    "\n",
    "    data = pd.read_excel(data_path)\n",
    "\n",
    "    data.head()\n",
    "\n",
    "    data.isnull().sum()\n",
    "\n",
    "    processed_data_path = '../data/processed/ENB2012_data_processed.csv'\n",
    "    data.to_csv(processed_data_path, index=False)\n",
    "\n",
    "process_data()"
   ]
  }
 ],
 "metadata": {
  "kernelspec": {
   "display_name": "Python 3",
   "language": "python",
   "name": "python3"
  },
  "language_info": {
   "codemirror_mode": {
    "name": "ipython",
    "version": 3
   },
   "file_extension": ".py",
   "mimetype": "text/x-python",
   "name": "python",
   "nbconvert_exporter": "python",
   "pygments_lexer": "ipython3",
   "version": "3.10.9"
  }
 },
 "nbformat": 4,
 "nbformat_minor": 2
}
