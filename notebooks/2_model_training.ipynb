{
 "cells": [
  {
   "cell_type": "code",
   "execution_count": 1,
   "metadata": {},
   "outputs": [
    {
     "name": "stdout",
     "output_type": "stream",
     "text": [
      "Heating Load MSE: 9.153544639384888\n",
      "Cooling Load MSE: 9.893292895211355\n"
     ]
    }
   ],
   "source": [
    "import pandas as pd\n",
    "from sklearn.model_selection import train_test_split\n",
    "from sklearn.linear_model import LinearRegression\n",
    "from sklearn.metrics import mean_squared_error\n",
    "\n",
    "def train_and_evaluate_model():\n",
    "    \"\"\"\n",
    "    Trains and evaluates linear regression models for predicting heating load and cooling load.\n",
    "\n",
    "    Returns:\n",
    "    - mse_y1 (float): Mean squared error for heating load predictions.\n",
    "    - mse_y2 (float): Mean squared error for cooling load predictions.\n",
    "    \"\"\"\n",
    "\n",
    "    data_path = '../data/processed/ENB2012_data_processed.csv'\n",
    "    data = pd.read_csv(data_path)\n",
    "\n",
    "    X = data[['X1', 'X2', 'X3', 'X4', 'X5', 'X6', 'X7', 'X8']]\n",
    "    y1 = data['Y1']  # Heating Load\n",
    "    y2 = data['Y2']  # Cooling Load\n",
    "\n",
    "    X_train, X_test, y1_train, y1_test = train_test_split(X, y1, test_size=0.2, random_state=42)\n",
    "    X_train, X_test, y2_train, y2_test = train_test_split(X, y2, test_size=0.2, random_state=42)\n",
    "\n",
    "    model_y1 = LinearRegression()\n",
    "    model_y1.fit(X_train, y1_train)\n",
    "\n",
    "    model_y2 = LinearRegression()\n",
    "    model_y2.fit(X_train, y2_train)\n",
    "\n",
    "    y1_pred = model_y1.predict(X_test)\n",
    "    mse_y1 = mean_squared_error(y1_test, y1_pred)\n",
    "\n",
    "    y2_pred = model_y2.predict(X_test)\n",
    "    mse_y2 = mean_squared_error(y2_test, y2_pred)\n",
    "\n",
    "    return mse_y1, mse_y2\n",
    "\n",
    "mse_y1, mse_y2 = train_and_evaluate_model()\n",
    "print(f'Heating Load MSE: {mse_y1}')\n",
    "print(f'Cooling Load MSE: {mse_y2}')\n"
   ]
  }
 ],
 "metadata": {
  "kernelspec": {
   "display_name": "Python 3",
   "language": "python",
   "name": "python3"
  },
  "language_info": {
   "codemirror_mode": {
    "name": "ipython",
    "version": 3
   },
   "file_extension": ".py",
   "mimetype": "text/x-python",
   "name": "python",
   "nbconvert_exporter": "python",
   "pygments_lexer": "ipython3",
   "version": "3.10.9"
  }
 },
 "nbformat": 4,
 "nbformat_minor": 2
}
